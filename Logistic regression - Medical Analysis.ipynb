{
 "cells": [
  {
   "cell_type": "markdown",
   "metadata": {
    "_uuid": "6d24889e8175ca8987fd0d0e2dd2b74bf1c6c739"
   },
   "source": [
    "# Prediction of back pain using Logistic Regression, Python\n",
    "\n",
    "The data comprises of 13 columns and 310 observations. 12 columns are numerical attributes of the spine/ back. The last column is the Status of the patient - Abnormal indicates presence of Back pain and Normal indicates no back pain. The intent is to predict the Status based on the 12 variables. "
   ]
  },
  {
   "cell_type": "code",
   "execution_count": 1,
   "metadata": {
    "ExecuteTime": {
     "end_time": "2021-11-05T20:44:55.341629Z",
     "start_time": "2021-11-05T20:44:53.328541Z"
    },
    "_cell_guid": "b1076dfc-b9ad-4769-8c92-a6c4dae69d19",
    "_uuid": "8f2839f25d086af736a60e9eeb907d3b93b6e0e5"
   },
   "outputs": [],
   "source": [
    "#Loading the necessary libraries\n",
    "import numpy as np # linear algebra\n",
    "import pandas as pd # data processing, CSV file I/O (e.g. pd.read_csv)\n",
    "\n",
    "import matplotlib.pyplot as plt\n",
    "import seaborn as sns\n",
    "\n",
    "from sklearn import preprocessing\n",
    "from sklearn.linear_model import LogisticRegression\n",
    "from sklearn.model_selection import train_test_split\n",
    "from sklearn.metrics import classification_report\n",
    "import statsmodels.api as sm"
   ]
  },
  {
   "cell_type": "code",
   "execution_count": 4,
   "metadata": {
    "ExecuteTime": {
     "end_time": "2021-11-05T20:53:18.750786Z",
     "start_time": "2021-11-05T20:53:18.723859Z"
    },
    "_uuid": "b0eb0f23e708da845d757429778f2162a1668ebd"
   },
   "outputs": [],
   "source": [
    "back_data = pd.read_csv(\"C:/Users/arunk/Downloads/Dataset_spine.csv\")"
   ]
  },
  {
   "cell_type": "code",
   "execution_count": 5,
   "metadata": {
    "ExecuteTime": {
     "end_time": "2021-11-05T20:53:19.866161Z",
     "start_time": "2021-11-05T20:53:19.855191Z"
    }
   },
   "outputs": [
    {
     "name": "stdout",
     "output_type": "stream",
     "text": [
      "<class 'pandas.core.frame.DataFrame'>\n",
      "RangeIndex: 310 entries, 0 to 309\n",
      "Data columns (total 14 columns):\n",
      " #   Column       Non-Null Count  Dtype  \n",
      "---  ------       --------------  -----  \n",
      " 0   Col1         310 non-null    float64\n",
      " 1   Col2         310 non-null    float64\n",
      " 2   Col3         310 non-null    float64\n",
      " 3   Col4         310 non-null    float64\n",
      " 4   Col5         310 non-null    float64\n",
      " 5   Col6         310 non-null    float64\n",
      " 6   Col7         310 non-null    float64\n",
      " 7   Col8         310 non-null    float64\n",
      " 8   Col9         310 non-null    float64\n",
      " 9   Col10        310 non-null    float64\n",
      " 10  Col11        310 non-null    float64\n",
      " 11  Col12        310 non-null    float64\n",
      " 12  Class_att    310 non-null    object \n",
      " 13  Unnamed: 13  14 non-null     object \n",
      "dtypes: float64(12), object(2)\n",
      "memory usage: 34.0+ KB\n"
     ]
    }
   ],
   "source": [
    "back_data.info()"
   ]
  },
  {
   "cell_type": "code",
   "execution_count": 6,
   "metadata": {
    "ExecuteTime": {
     "end_time": "2021-11-05T20:53:20.550033Z",
     "start_time": "2021-11-05T20:53:20.546044Z"
    },
    "_uuid": "028ccc53ffbb744ecde50b5cfaf3a4dcd0aa8ac7"
   },
   "outputs": [],
   "source": [
    "del back_data['Unnamed: 13']\n",
    "back_data.columns = ['pelvic_incidence','pelvic tilt','lumbar_lordosis_angle',\n",
    "                     'sacral_slope','pelvic_radius','degree_spondylolisthesis',\n",
    "                     'pelvic_slope','Direct_tilt','thoracic_slope','cervical_tilt','sacrum_angle','scoliosis_slope','Status']"
   ]
  },
  {
   "cell_type": "code",
   "execution_count": 7,
   "metadata": {
    "ExecuteTime": {
     "end_time": "2021-11-05T20:53:21.449834Z",
     "start_time": "2021-11-05T20:53:21.290260Z"
    }
   },
   "outputs": [
    {
     "data": {
      "image/png": "[encoded data removed]",
      "text/plain": [
       "<Figure size 432x288 with 1 Axes>"
      ]
     },
     "metadata": {
      "needs_background": "light"
     },
     "output_type": "display_data"
    }
   ],
   "source": [
    "sns.countplot(x = 'Status', data = back_data)\n",
    "plt.show()"
   ]
  },
  {
   "cell_type": "code",
   "execution_count": 8,
   "metadata": {
    "ExecuteTime": {
     "end_time": "2021-11-05T20:53:22.222329Z",
     "start_time": "2021-11-05T20:53:22.186433Z"
    },
    "_uuid": "56d7f534ea8ac8275a2b83cce6cb4fcea909f143"
   },
   "outputs": [
    {
     "name": "stdout",
     "output_type": "stream",
     "text": [
      "<class 'pandas.core.frame.DataFrame'>\n",
      "RangeIndex: 310 entries, 0 to 309\n",
      "Data columns (total 13 columns):\n",
      " #   Column                    Non-Null Count  Dtype  \n",
      "---  ------                    --------------  -----  \n",
      " 0   pelvic_incidence          310 non-null    float64\n",
      " 1   pelvic tilt               310 non-null    float64\n",
      " 2   lumbar_lordosis_angle     310 non-null    float64\n",
      " 3   sacral_slope              310 non-null    float64\n",
      " 4   pelvic_radius             310 non-null    float64\n",
      " 5   degree_spondylolisthesis  310 non-null    float64\n",
      " 6   pelvic_slope              310 non-null    float64\n",
      " 7   Direct_tilt               310 non-null    float64\n",
      " 8   thoracic_slope            310 non-null    float64\n",
      " 9   cervical_tilt             310 non-null    float64\n",
      " 10  sacrum_angle              310 non-null    float64\n",
      " 11  scoliosis_slope           310 non-null    float64\n",
      " 12  Status                    310 non-null    object \n",
      "dtypes: float64(12), object(1)\n",
      "memory usage: 31.6+ KB\n",
      "pelvic_incidence            0\n",
      "pelvic tilt                 0\n",
      "lumbar_lordosis_angle       0\n",
      "sacral_slope                0\n",
      "pelvic_radius               0\n",
      "degree_spondylolisthesis    0\n",
      "pelvic_slope                0\n",
      "Direct_tilt                 0\n",
      "thoracic_slope              0\n",
      "cervical_tilt               0\n",
      "sacrum_angle                0\n",
      "scoliosis_slope             0\n",
      "Status                      0\n",
      "dtype: int64\n",
      "       pelvic_incidence  pelvic tilt  lumbar_lordosis_angle  sacral_slope  \\\n",
      "count        310.000000   310.000000             310.000000    310.000000   \n",
      "mean          60.496653    17.542822              51.930930     42.953831   \n",
      "std           17.236520    10.008330              18.554064     13.423102   \n",
      "min           26.147921    -6.554948              14.000000     13.366931   \n",
      "25%           46.430294    10.667069              37.000000     33.347122   \n",
      "50%           58.691038    16.357689              49.562398     42.404912   \n",
      "75%           72.877696    22.120395              63.000000     52.695888   \n",
      "max          129.834041    49.431864             125.742385    121.429566   \n",
      "\n",
      "       pelvic_radius  degree_spondylolisthesis  pelvic_slope  Direct_tilt  \\\n",
      "count     310.000000                310.000000    310.000000   310.000000   \n",
      "mean      117.920655                 26.296694      0.472979    21.321526   \n",
      "std        13.317377                 37.559027      0.285787     8.639423   \n",
      "min        70.082575                -11.058179      0.003220     7.027000   \n",
      "25%       110.709196                  1.603727      0.224367    13.054400   \n",
      "50%       118.268178                 11.767934      0.475989    21.907150   \n",
      "75%       125.467674                 41.287352      0.704846    28.954075   \n",
      "max       163.071041                418.543082      0.998827    36.743900   \n",
      "\n",
      "       thoracic_slope  cervical_tilt  sacrum_angle  scoliosis_slope  \n",
      "count      310.000000     310.000000    310.000000       310.000000  \n",
      "mean        13.064511      11.933317    -14.053139        25.645981  \n",
      "std          3.399713       2.893265     12.225582        10.450558  \n",
      "min          7.037800       7.030600    -35.287375         7.007900  \n",
      "25%         10.417800       9.541140    -24.289522        17.189075  \n",
      "50%         12.938450      11.953835    -14.622856        24.931950  \n",
      "75%         15.889525      14.371810     -3.497094        33.979600  \n",
      "max         19.324000      16.821080      6.972071        44.341200  \n"
     ]
    }
   ],
   "source": [
    "## Understanding the structure of the data variables\n",
    "back_data.info()\n",
    "\n",
    "##Checking for missing values. There are no missing values\n",
    "print(back_data.isnull().sum())\n",
    "print(back_data.describe())"
   ]
  },
  {
   "cell_type": "code",
   "execution_count": 9,
   "metadata": {
    "ExecuteTime": {
     "end_time": "2021-11-05T20:53:23.278087Z",
     "start_time": "2021-11-05T20:53:22.974716Z"
    },
    "_uuid": "a900fea36313f4633bdb57ed36f4f2214a1d85c2"
   },
   "outputs": [
    {
     "data": {
      "image/png": "[encoded data removed]",
      "text/plain": [
       "<Figure size 432x288 with 2 Axes>"
      ]
     },
     "metadata": {
      "needs_background": "light"
     },
     "output_type": "display_data"
    }
   ],
   "source": [
    "corr_back = back_data.corr()\n",
    "\n",
    "# Generate the correlation plot \n",
    "sns.heatmap(corr_back, center=0, square=True, linewidths=.5)\n",
    "plt.show()"
   ]
  },
  {
   "cell_type": "code",
   "execution_count": 10,
   "metadata": {
    "ExecuteTime": {
     "end_time": "2021-11-05T20:53:26.936622Z",
     "start_time": "2021-11-05T20:53:26.915678Z"
    },
    "_uuid": "bb590a1746146919e0a2259ff22195e9df7e4cba"
   },
   "outputs": [
    {
     "data": {
      "text/html": [
       "<div>\n",
       "<style scoped>\n",
       "    .dataframe tbody tr th:only-of-type {\n",
       "        vertical-align: middle;\n",
       "    }\n",
       "\n",
       "    .dataframe tbody tr th {\n",
       "        vertical-align: top;\n",
       "    }\n",
       "\n",
       "    .dataframe thead th {\n",
       "        text-align: right;\n",
       "    }\n",
       "</style>\n",
       "<table border=\"1\" class=\"dataframe\">\n",
       "  <thead>\n",
       "    <tr style=\"text-align: right;\">\n",
       "      <th></th>\n",
       "      <th>pelvic_incidence</th>\n",
       "      <th>pelvic tilt</th>\n",
       "      <th>lumbar_lordosis_angle</th>\n",
       "      <th>sacral_slope</th>\n",
       "      <th>pelvic_radius</th>\n",
       "      <th>degree_spondylolisthesis</th>\n",
       "      <th>pelvic_slope</th>\n",
       "      <th>Direct_tilt</th>\n",
       "      <th>thoracic_slope</th>\n",
       "      <th>cervical_tilt</th>\n",
       "      <th>sacrum_angle</th>\n",
       "      <th>scoliosis_slope</th>\n",
       "    </tr>\n",
       "  </thead>\n",
       "  <tbody>\n",
       "    <tr>\n",
       "      <th>pelvic_incidence</th>\n",
       "      <td>1.000000</td>\n",
       "      <td>0.629199</td>\n",
       "      <td>0.717282</td>\n",
       "      <td>0.814960</td>\n",
       "      <td>-0.247467</td>\n",
       "      <td>0.638743</td>\n",
       "      <td>0.043290</td>\n",
       "      <td>-0.078411</td>\n",
       "      <td>-0.089740</td>\n",
       "      <td>0.016750</td>\n",
       "      <td>0.019240</td>\n",
       "      <td>-0.007251</td>\n",
       "    </tr>\n",
       "    <tr>\n",
       "      <th>pelvic tilt</th>\n",
       "      <td>0.629199</td>\n",
       "      <td>1.000000</td>\n",
       "      <td>0.432764</td>\n",
       "      <td>0.062345</td>\n",
       "      <td>0.032668</td>\n",
       "      <td>0.397862</td>\n",
       "      <td>0.008852</td>\n",
       "      <td>-0.072119</td>\n",
       "      <td>-0.063394</td>\n",
       "      <td>0.028931</td>\n",
       "      <td>0.032859</td>\n",
       "      <td>-0.056550</td>\n",
       "    </tr>\n",
       "    <tr>\n",
       "      <th>lumbar_lordosis_angle</th>\n",
       "      <td>0.717282</td>\n",
       "      <td>0.432764</td>\n",
       "      <td>1.000000</td>\n",
       "      <td>0.598387</td>\n",
       "      <td>-0.080344</td>\n",
       "      <td>0.533667</td>\n",
       "      <td>0.029486</td>\n",
       "      <td>-0.112939</td>\n",
       "      <td>-0.063582</td>\n",
       "      <td>0.063875</td>\n",
       "      <td>0.057199</td>\n",
       "      <td>-0.049054</td>\n",
       "    </tr>\n",
       "    <tr>\n",
       "      <th>sacral_slope</th>\n",
       "      <td>0.814960</td>\n",
       "      <td>0.062345</td>\n",
       "      <td>0.598387</td>\n",
       "      <td>1.000000</td>\n",
       "      <td>-0.342128</td>\n",
       "      <td>0.523557</td>\n",
       "      <td>0.048988</td>\n",
       "      <td>-0.046914</td>\n",
       "      <td>-0.067968</td>\n",
       "      <td>-0.000063</td>\n",
       "      <td>0.000207</td>\n",
       "      <td>0.032853</td>\n",
       "    </tr>\n",
       "    <tr>\n",
       "      <th>pelvic_radius</th>\n",
       "      <td>-0.247467</td>\n",
       "      <td>0.032668</td>\n",
       "      <td>-0.080344</td>\n",
       "      <td>-0.342128</td>\n",
       "      <td>1.000000</td>\n",
       "      <td>-0.026065</td>\n",
       "      <td>0.015767</td>\n",
       "      <td>0.063433</td>\n",
       "      <td>0.060477</td>\n",
       "      <td>-0.039800</td>\n",
       "      <td>0.029738</td>\n",
       "      <td>-0.030145</td>\n",
       "    </tr>\n",
       "    <tr>\n",
       "      <th>degree_spondylolisthesis</th>\n",
       "      <td>0.638743</td>\n",
       "      <td>0.397862</td>\n",
       "      <td>0.533667</td>\n",
       "      <td>0.523557</td>\n",
       "      <td>-0.026065</td>\n",
       "      <td>1.000000</td>\n",
       "      <td>0.085925</td>\n",
       "      <td>-0.063812</td>\n",
       "      <td>-0.057286</td>\n",
       "      <td>0.056576</td>\n",
       "      <td>0.023021</td>\n",
       "      <td>-0.041023</td>\n",
       "    </tr>\n",
       "    <tr>\n",
       "      <th>pelvic_slope</th>\n",
       "      <td>0.043290</td>\n",
       "      <td>0.008852</td>\n",
       "      <td>0.029486</td>\n",
       "      <td>0.048988</td>\n",
       "      <td>0.015767</td>\n",
       "      <td>0.085925</td>\n",
       "      <td>1.000000</td>\n",
       "      <td>0.012694</td>\n",
       "      <td>-0.011770</td>\n",
       "      <td>0.088017</td>\n",
       "      <td>0.060743</td>\n",
       "      <td>-0.073893</td>\n",
       "    </tr>\n",
       "    <tr>\n",
       "      <th>Direct_tilt</th>\n",
       "      <td>-0.078411</td>\n",
       "      <td>-0.072119</td>\n",
       "      <td>-0.112939</td>\n",
       "      <td>-0.046914</td>\n",
       "      <td>0.063433</td>\n",
       "      <td>-0.063812</td>\n",
       "      <td>0.012694</td>\n",
       "      <td>1.000000</td>\n",
       "      <td>0.009887</td>\n",
       "      <td>0.072738</td>\n",
       "      <td>-0.037428</td>\n",
       "      <td>-0.024021</td>\n",
       "    </tr>\n",
       "    <tr>\n",
       "      <th>thoracic_slope</th>\n",
       "      <td>-0.089740</td>\n",
       "      <td>-0.063394</td>\n",
       "      <td>-0.063582</td>\n",
       "      <td>-0.067968</td>\n",
       "      <td>0.060477</td>\n",
       "      <td>-0.057286</td>\n",
       "      <td>-0.011770</td>\n",
       "      <td>0.009887</td>\n",
       "      <td>1.000000</td>\n",
       "      <td>0.052451</td>\n",
       "      <td>0.011354</td>\n",
       "      <td>0.009541</td>\n",
       "    </tr>\n",
       "    <tr>\n",
       "      <th>cervical_tilt</th>\n",
       "      <td>0.016750</td>\n",
       "      <td>0.028931</td>\n",
       "      <td>0.063875</td>\n",
       "      <td>-0.000063</td>\n",
       "      <td>-0.039800</td>\n",
       "      <td>0.056576</td>\n",
       "      <td>0.088017</td>\n",
       "      <td>0.072738</td>\n",
       "      <td>0.052451</td>\n",
       "      <td>1.000000</td>\n",
       "      <td>0.057451</td>\n",
       "      <td>0.021243</td>\n",
       "    </tr>\n",
       "    <tr>\n",
       "      <th>sacrum_angle</th>\n",
       "      <td>0.019240</td>\n",
       "      <td>0.032859</td>\n",
       "      <td>0.057199</td>\n",
       "      <td>0.000207</td>\n",
       "      <td>0.029738</td>\n",
       "      <td>0.023021</td>\n",
       "      <td>0.060743</td>\n",
       "      <td>-0.037428</td>\n",
       "      <td>0.011354</td>\n",
       "      <td>0.057451</td>\n",
       "      <td>1.000000</td>\n",
       "      <td>0.015337</td>\n",
       "    </tr>\n",
       "    <tr>\n",
       "      <th>scoliosis_slope</th>\n",
       "      <td>-0.007251</td>\n",
       "      <td>-0.056550</td>\n",
       "      <td>-0.049054</td>\n",
       "      <td>0.032853</td>\n",
       "      <td>-0.030145</td>\n",
       "      <td>-0.041023</td>\n",
       "      <td>-0.073893</td>\n",
       "      <td>-0.024021</td>\n",
       "      <td>0.009541</td>\n",
       "      <td>0.021243</td>\n",
       "      <td>0.015337</td>\n",
       "      <td>1.000000</td>\n",
       "    </tr>\n",
       "  </tbody>\n",
       "</table>\n",
       "</div>"
      ],
      "text/plain": [
       "                          pelvic_incidence  pelvic tilt  \\\n",
       "pelvic_incidence                  1.000000     0.629199   \n",
       "pelvic tilt                       0.629199     1.000000   \n",
       "lumbar_lordosis_angle             0.717282     0.432764   \n",
       "sacral_slope                      0.814960     0.062345   \n",
       "pelvic_radius                    -0.247467     0.032668   \n",
       "degree_spondylolisthesis          0.638743     0.397862   \n",
       "pelvic_slope                      0.043290     0.008852   \n",
       "Direct_tilt                      -0.078411    -0.072119   \n",
       "thoracic_slope                   -0.089740    -0.063394   \n",
       "cervical_tilt                     0.016750     0.028931   \n",
       "sacrum_angle                      0.019240     0.032859   \n",
       "scoliosis_slope                  -0.007251    -0.056550   \n",
       "\n",
       "                          lumbar_lordosis_angle  sacral_slope  pelvic_radius  \\\n",
       "pelvic_incidence                       0.717282      0.814960      -0.247467   \n",
       "pelvic tilt                            0.432764      0.062345       0.032668   \n",
       "lumbar_lordosis_angle                  1.000000      0.598387      -0.080344   \n",
       "sacral_slope                           0.598387      1.000000      -0.342128   \n",
       "pelvic_radius                         -0.080344     -0.342128       1.000000   \n",
       "degree_spondylolisthesis               0.533667      0.523557      -0.026065   \n",
       "pelvic_slope                           0.029486      0.048988       0.015767   \n",
       "Direct_tilt                           -0.112939     -0.046914       0.063433   \n",
       "thoracic_slope                        -0.063582     -0.067968       0.060477   \n",
       "cervical_tilt                          0.063875     -0.000063      -0.039800   \n",
       "sacrum_angle                           0.057199      0.000207       0.029738   \n",
       "scoliosis_slope                       -0.049054      0.032853      -0.030145   \n",
       "\n",
       "                          degree_spondylolisthesis  pelvic_slope  Direct_tilt  \\\n",
       "pelvic_incidence                          0.638743      0.043290    -0.078411   \n",
       "pelvic tilt                               0.397862      0.008852    -0.072119   \n",
       "lumbar_lordosis_angle                     0.533667      0.029486    -0.112939   \n",
       "sacral_slope                              0.523557      0.048988    -0.046914   \n",
       "pelvic_radius                            -0.026065      0.015767     0.063433   \n",
       "degree_spondylolisthesis                  1.000000      0.085925    -0.063812   \n",
       "pelvic_slope                              0.085925      1.000000     0.012694   \n",
       "Direct_tilt                              -0.063812      0.012694     1.000000   \n",
       "thoracic_slope                           -0.057286     -0.011770     0.009887   \n",
       "cervical_tilt                             0.056576      0.088017     0.072738   \n",
       "sacrum_angle                              0.023021      0.060743    -0.037428   \n",
       "scoliosis_slope                          -0.041023     -0.073893    -0.024021   \n",
       "\n",
       "                          thoracic_slope  cervical_tilt  sacrum_angle  \\\n",
       "pelvic_incidence               -0.089740       0.016750      0.019240   \n",
       "pelvic tilt                    -0.063394       0.028931      0.032859   \n",
       "lumbar_lordosis_angle          -0.063582       0.063875      0.057199   \n",
       "sacral_slope                   -0.067968      -0.000063      0.000207   \n",
       "pelvic_radius                   0.060477      -0.039800      0.029738   \n",
       "degree_spondylolisthesis       -0.057286       0.056576      0.023021   \n",
       "pelvic_slope                   -0.011770       0.088017      0.060743   \n",
       "Direct_tilt                     0.009887       0.072738     -0.037428   \n",
       "thoracic_slope                  1.000000       0.052451      0.011354   \n",
       "cervical_tilt                   0.052451       1.000000      0.057451   \n",
       "sacrum_angle                    0.011354       0.057451      1.000000   \n",
       "scoliosis_slope                 0.009541       0.021243      0.015337   \n",
       "\n",
       "                          scoliosis_slope  \n",
       "pelvic_incidence                -0.007251  \n",
       "pelvic tilt                     -0.056550  \n",
       "lumbar_lordosis_angle           -0.049054  \n",
       "sacral_slope                     0.032853  \n",
       "pelvic_radius                   -0.030145  \n",
       "degree_spondylolisthesis        -0.041023  \n",
       "pelvic_slope                    -0.073893  \n",
       "Direct_tilt                     -0.024021  \n",
       "thoracic_slope                   0.009541  \n",
       "cervical_tilt                    0.021243  \n",
       "sacrum_angle                     0.015337  \n",
       "scoliosis_slope                  1.000000  "
      ]
     },
     "execution_count": 10,
     "metadata": {},
     "output_type": "execute_result"
    }
   ],
   "source": [
    "# Seeing the correlation values\n",
    "corr_back"
   ]
  },
  {
   "cell_type": "code",
   "execution_count": 11,
   "metadata": {
    "ExecuteTime": {
     "end_time": "2021-11-05T20:53:28.033494Z",
     "start_time": "2021-11-05T20:53:28.006566Z"
    },
    "_uuid": "d5d94b6d7ec0dded9307e74469b65d62577c4281"
   },
   "outputs": [
    {
     "data": {
      "text/html": [
       "<div>\n",
       "<style scoped>\n",
       "    .dataframe tbody tr th:only-of-type {\n",
       "        vertical-align: middle;\n",
       "    }\n",
       "\n",
       "    .dataframe tbody tr th {\n",
       "        vertical-align: top;\n",
       "    }\n",
       "\n",
       "    .dataframe thead th {\n",
       "        text-align: right;\n",
       "    }\n",
       "</style>\n",
       "<table border=\"1\" class=\"dataframe\">\n",
       "  <thead>\n",
       "    <tr style=\"text-align: right;\">\n",
       "      <th></th>\n",
       "      <th>pelvic_incidence</th>\n",
       "      <th>pelvic tilt</th>\n",
       "      <th>lumbar_lordosis_angle</th>\n",
       "      <th>sacral_slope</th>\n",
       "      <th>pelvic_radius</th>\n",
       "      <th>degree_spondylolisthesis</th>\n",
       "      <th>pelvic_slope</th>\n",
       "      <th>Direct_tilt</th>\n",
       "      <th>thoracic_slope</th>\n",
       "      <th>cervical_tilt</th>\n",
       "      <th>sacrum_angle</th>\n",
       "      <th>scoliosis_slope</th>\n",
       "    </tr>\n",
       "    <tr>\n",
       "      <th>Status</th>\n",
       "      <th></th>\n",
       "      <th></th>\n",
       "      <th></th>\n",
       "      <th></th>\n",
       "      <th></th>\n",
       "      <th></th>\n",
       "      <th></th>\n",
       "      <th></th>\n",
       "      <th></th>\n",
       "      <th></th>\n",
       "      <th></th>\n",
       "      <th></th>\n",
       "    </tr>\n",
       "  </thead>\n",
       "  <tbody>\n",
       "    <tr>\n",
       "      <th>Abnormal</th>\n",
       "      <td>64.692562</td>\n",
       "      <td>19.791111</td>\n",
       "      <td>55.925370</td>\n",
       "      <td>44.90145</td>\n",
       "      <td>115.077713</td>\n",
       "      <td>37.777705</td>\n",
       "      <td>0.483979</td>\n",
       "      <td>21.085875</td>\n",
       "      <td>12.948913</td>\n",
       "      <td>12.132737</td>\n",
       "      <td>-13.826677</td>\n",
       "      <td>25.146915</td>\n",
       "    </tr>\n",
       "    <tr>\n",
       "      <th>Normal</th>\n",
       "      <td>51.685244</td>\n",
       "      <td>12.821414</td>\n",
       "      <td>43.542605</td>\n",
       "      <td>38.86383</td>\n",
       "      <td>123.890834</td>\n",
       "      <td>2.186572</td>\n",
       "      <td>0.449880</td>\n",
       "      <td>21.816394</td>\n",
       "      <td>13.307268</td>\n",
       "      <td>11.514534</td>\n",
       "      <td>-14.528711</td>\n",
       "      <td>26.694019</td>\n",
       "    </tr>\n",
       "  </tbody>\n",
       "</table>\n",
       "</div>"
      ],
      "text/plain": [
       "          pelvic_incidence  pelvic tilt  lumbar_lordosis_angle  sacral_slope  \\\n",
       "Status                                                                         \n",
       "Abnormal         64.692562    19.791111              55.925370      44.90145   \n",
       "Normal           51.685244    12.821414              43.542605      38.86383   \n",
       "\n",
       "          pelvic_radius  degree_spondylolisthesis  pelvic_slope  Direct_tilt  \\\n",
       "Status                                                                         \n",
       "Abnormal     115.077713                 37.777705      0.483979    21.085875   \n",
       "Normal       123.890834                  2.186572      0.449880    21.816394   \n",
       "\n",
       "          thoracic_slope  cervical_tilt  sacrum_angle  scoliosis_slope  \n",
       "Status                                                                  \n",
       "Abnormal       12.948913      12.132737    -13.826677        25.146915  \n",
       "Normal         13.307268      11.514534    -14.528711        26.694019  "
      ]
     },
     "execution_count": 11,
     "metadata": {},
     "output_type": "execute_result"
    }
   ],
   "source": [
    "back_data.groupby('Status').mean()"
   ]
  },
  {
   "cell_type": "code",
   "execution_count": 12,
   "metadata": {
    "ExecuteTime": {
     "end_time": "2021-11-05T20:53:31.282387Z",
     "start_time": "2021-11-05T20:53:31.252467Z"
    },
    "_uuid": "2a981585b6de217e0bc0972ebd573d54511788f6"
   },
   "outputs": [
    {
     "data": {
      "text/html": [
       "<div>\n",
       "<style scoped>\n",
       "    .dataframe tbody tr th:only-of-type {\n",
       "        vertical-align: middle;\n",
       "    }\n",
       "\n",
       "    .dataframe tbody tr th {\n",
       "        vertical-align: top;\n",
       "    }\n",
       "\n",
       "    .dataframe thead th {\n",
       "        text-align: right;\n",
       "    }\n",
       "</style>\n",
       "<table border=\"1\" class=\"dataframe\">\n",
       "  <thead>\n",
       "    <tr style=\"text-align: right;\">\n",
       "      <th></th>\n",
       "      <th>pelvic_incidence</th>\n",
       "      <th>pelvic tilt</th>\n",
       "      <th>lumbar_lordosis_angle</th>\n",
       "      <th>sacral_slope</th>\n",
       "      <th>pelvic_radius</th>\n",
       "      <th>degree_spondylolisthesis</th>\n",
       "      <th>pelvic_slope</th>\n",
       "      <th>Direct_tilt</th>\n",
       "      <th>thoracic_slope</th>\n",
       "      <th>cervical_tilt</th>\n",
       "      <th>sacrum_angle</th>\n",
       "      <th>scoliosis_slope</th>\n",
       "    </tr>\n",
       "    <tr>\n",
       "      <th>Status</th>\n",
       "      <th></th>\n",
       "      <th></th>\n",
       "      <th></th>\n",
       "      <th></th>\n",
       "      <th></th>\n",
       "      <th></th>\n",
       "      <th></th>\n",
       "      <th></th>\n",
       "      <th></th>\n",
       "      <th></th>\n",
       "      <th></th>\n",
       "      <th></th>\n",
       "    </tr>\n",
       "  </thead>\n",
       "  <tbody>\n",
       "    <tr>\n",
       "      <th>Abnormal</th>\n",
       "      <td>65.274888</td>\n",
       "      <td>18.798899</td>\n",
       "      <td>56.150000</td>\n",
       "      <td>44.639597</td>\n",
       "      <td>115.650323</td>\n",
       "      <td>31.946516</td>\n",
       "      <td>0.501280</td>\n",
       "      <td>21.7506</td>\n",
       "      <td>12.77005</td>\n",
       "      <td>11.973735</td>\n",
       "      <td>-14.892070</td>\n",
       "      <td>24.50940</td>\n",
       "    </tr>\n",
       "    <tr>\n",
       "      <th>Normal</th>\n",
       "      <td>50.123115</td>\n",
       "      <td>13.482435</td>\n",
       "      <td>42.638923</td>\n",
       "      <td>37.059694</td>\n",
       "      <td>123.874328</td>\n",
       "      <td>1.152710</td>\n",
       "      <td>0.418732</td>\n",
       "      <td>22.4146</td>\n",
       "      <td>13.40975</td>\n",
       "      <td>11.330750</td>\n",
       "      <td>-13.974694</td>\n",
       "      <td>27.72795</td>\n",
       "    </tr>\n",
       "  </tbody>\n",
       "</table>\n",
       "</div>"
      ],
      "text/plain": [
       "          pelvic_incidence  pelvic tilt  lumbar_lordosis_angle  sacral_slope  \\\n",
       "Status                                                                         \n",
       "Abnormal         65.274888    18.798899              56.150000     44.639597   \n",
       "Normal           50.123115    13.482435              42.638923     37.059694   \n",
       "\n",
       "          pelvic_radius  degree_spondylolisthesis  pelvic_slope  Direct_tilt  \\\n",
       "Status                                                                         \n",
       "Abnormal     115.650323                 31.946516      0.501280      21.7506   \n",
       "Normal       123.874328                  1.152710      0.418732      22.4146   \n",
       "\n",
       "          thoracic_slope  cervical_tilt  sacrum_angle  scoliosis_slope  \n",
       "Status                                                                  \n",
       "Abnormal        12.77005      11.973735    -14.892070         24.50940  \n",
       "Normal          13.40975      11.330750    -13.974694         27.72795  "
      ]
     },
     "execution_count": 12,
     "metadata": {},
     "output_type": "execute_result"
    }
   ],
   "source": [
    "back_data.groupby('Status').median()"
   ]
  },
  {
   "cell_type": "code",
   "execution_count": 13,
   "metadata": {
    "ExecuteTime": {
     "end_time": "2021-11-05T20:53:33.567874Z",
     "start_time": "2021-11-05T20:53:32.528182Z"
    },
    "_uuid": "5672c2a87c6c2f89a6fc19977987126d32bdb0cb"
   },
   "outputs": [
    {
     "data": {
      "image/png": "[encoded data removed]",
      "text/plain": [
       "<Figure size 1080x1080 with 12 Axes>"
      ]
     },
     "metadata": {
      "needs_background": "light"
     },
     "output_type": "display_data"
    }
   ],
   "source": [
    "## Generating 3*4 matrix of box plots\n",
    "fig, axes = plt.subplots(3, 4, figsize = (15,15))\n",
    "axes = axes.flatten()\n",
    "\n",
    "for i in range(0,len(back_data.columns)-1):\n",
    "    sns.boxplot(x=\"Status\", y=back_data.iloc[:,i], data=back_data, orient='v', ax=axes[i])\n",
    "\n",
    "plt.tight_layout()\n",
    "plt.show()\n",
    "#These plots allows us to choose the continous independendent variable by comparing the box plot distribution of each variable \n",
    "#for the two classes by choosing a varaible with minimum overlap"
   ]
  },
  {
   "cell_type": "code",
   "execution_count": 16,
   "metadata": {},
   "outputs": [
    {
     "data": {
      "image/png": "[encoded data removed]",
      "text/plain": [
       "<Figure size 720x720 with 1 Axes>"
      ]
     },
     "metadata": {
      "needs_background": "light"
     },
     "output_type": "display_data"
    }
   ],
   "source": [
    "#To get an idea about Linear seperability\n",
    "plt.figure(figsize=(10,10))\n",
    "ax = sns.scatterplot(x=\"Direct_tilt\", y=\"pelvic_radius\", hue = \"Status\", data = back_data, palette =['red','green'])\n",
    "plt.show()"
   ]
  },
  {
   "cell_type": "code",
   "execution_count": 14,
   "metadata": {
    "ExecuteTime": {
     "end_time": "2021-04-07T04:10:03.996283Z",
     "start_time": "2021-04-07T04:10:03.632343Z"
    },
    "_uuid": "7ae643d9a3ddf74c97c97fefa016f14cc207e6b8"
   },
   "outputs": [],
   "source": [
    "back_data.loc[back_data.Status=='Abnormal','Status'] = 1\n",
    "back_data.loc[back_data.Status=='Normal','Status'] = 0"
   ]
  },
  {
   "cell_type": "code",
   "execution_count": 15,
   "metadata": {
    "ExecuteTime": {
     "end_time": "2021-04-07T04:10:04.699508Z",
     "start_time": "2021-04-07T04:10:04.603449Z"
    },
    "_uuid": "d588a2896d3be010e52c3cadc287ac304be2b4bd"
   },
   "outputs": [],
   "source": [
    "X = back_data.loc[:, back_data.columns != \"Status\"]\n",
    "y = back_data.loc[:, back_data.columns == \"Status\"]"
   ]
  },
  {
   "cell_type": "code",
   "execution_count": 16,
   "metadata": {
    "ExecuteTime": {
     "end_time": "2021-04-07T04:10:05.701688Z",
     "start_time": "2021-04-07T04:10:05.660666Z"
    },
    "_uuid": "bcdcebb8e975d4283098da23cfdf94029e05b758"
   },
   "outputs": [],
   "source": [
    "def data_preprocess(X,y):\n",
    "    X_train, X_test, y_train, y_test = train_test_split(X, y.values.ravel(), test_size=0.3, random_state=0)\n",
    "    from sklearn.preprocessing import StandardScaler\n",
    "    #Scaling is done by caculating mean and SD of each column and then each column is scaled accordingly\n",
    "    scaler = StandardScaler(copy=True, with_mean=True, with_std=True)\n",
    "\n",
    "    scaler.fit(X_train)#store mean and SD to apply transformation\n",
    "\n",
    "    # Now apply the transformations to the data:\n",
    "    train_scaled = scaler.transform(X_train)\n",
    "    test_scaled = scaler.transform(X_test)\n",
    "    y_train=y_train.astype('int')\n",
    "    y_test=y_test.astype('int')\n",
    "    return(train_scaled, test_scaled, y_train, y_test)"
   ]
  },
  {
   "cell_type": "code",
   "execution_count": 17,
   "metadata": {
    "ExecuteTime": {
     "end_time": "2021-04-07T04:10:06.585812Z",
     "start_time": "2021-04-07T04:10:06.572808Z"
    },
    "_uuid": "6b3af39348e13776ed9e2e668b87728f91272ccb"
   },
   "outputs": [],
   "source": [
    "def logistic_regression(x,y):\n",
    "    logreg = LogisticRegression().fit(x, y)\n",
    "    return(logreg)"
   ]
  },
  {
   "cell_type": "code",
   "execution_count": 18,
   "metadata": {
    "ExecuteTime": {
     "end_time": "2021-04-07T04:10:07.987368Z",
     "start_time": "2021-04-07T04:10:07.408874Z"
    }
   },
   "outputs": [],
   "source": [
    "X_train_scaled, X_test_scaled, y_train, y_test = data_preprocess(X,y)"
   ]
  },
  {
   "cell_type": "code",
   "execution_count": 19,
   "metadata": {
    "ExecuteTime": {
     "end_time": "2021-04-07T04:10:09.363217Z",
     "start_time": "2021-04-07T04:10:08.571406Z"
    }
   },
   "outputs": [],
   "source": [
    "logreg_result = logistic_regression(X_train_scaled, y_train)\n"
   ]
  },
  {
   "cell_type": "code",
   "execution_count": 20,
   "metadata": {
    "ExecuteTime": {
     "end_time": "2021-04-07T04:10:09.699975Z",
     "start_time": "2021-04-07T04:10:09.405239Z"
    },
    "_uuid": "ab02e7254146b8c317b3d9caf30a8f6eb98008a9"
   },
   "outputs": [
    {
     "name": "stdout",
     "output_type": "stream",
     "text": [
      "Training set score: 0.876\n",
      "Test set score: 0.817\n"
     ]
    }
   ],
   "source": [
    "#To check the generalisability of the model both on test and train data\n",
    "print(\"Training set score: {:.3f}\".format(logreg_result.score(X_train_scaled,y_train)))\n",
    "print(\"Test set score: {:.3f}\".format(logreg_result.score(X_test_scaled,y_test)))"
   ]
  },
  {
   "cell_type": "code",
   "execution_count": 21,
   "metadata": {
    "ExecuteTime": {
     "end_time": "2021-04-07T04:10:17.057905Z",
     "start_time": "2021-04-07T04:10:14.318222Z"
    },
    "_uuid": "9afeb023dfd9075e7ec3b65ba602e6c0ab4d8692"
   },
   "outputs": [
    {
     "name": "stdout",
     "output_type": "stream",
     "text": [
      "Warning: Maximum number of iterations has been exceeded.\n",
      "         Current function value: 0.473055\n",
      "         Iterations: 35\n"
     ]
    },
    {
     "name": "stderr",
     "output_type": "stream",
     "text": [
      "D:\\Anaconda\\lib\\site-packages\\statsmodels\\base\\model.py:566: ConvergenceWarning: Maximum Likelihood optimization failed to converge. Check mle_retvals\n",
      "  warnings.warn(\"Maximum Likelihood optimization failed to \"\n"
     ]
    },
    {
     "name": "stdout",
     "output_type": "stream",
     "text": [
      "                           Results: Logit\n",
      "=====================================================================\n",
      "Model:                Logit             Pseudo R-squared:  0.248     \n",
      "Dependent Variable:   y                 AIC:               229.3058  \n",
      "Date:                 2021-04-07 09:40  BIC:               269.8646  \n",
      "No. Observations:     217               Log-Likelihood:    -102.65   \n",
      "Df Model:             11                LL-Null:           -136.45   \n",
      "Df Residuals:         205               LLR p-value:       3.4943e-10\n",
      "Converged:            0.0000            Scale:             1.0000    \n",
      "No. Iterations:       35.0000                                        \n",
      "---------------------------------------------------------------------\n",
      "     Coef.     Std.Err.      z    P>|z|      [0.025         0.975]   \n",
      "---------------------------------------------------------------------\n",
      "x1   0.0814 32754467.9045  0.0000 1.0000 -64197577.3442 64197577.5070\n",
      "x2   0.0765 18669872.0992  0.0000 1.0000 -36592276.8339 36592276.9870\n",
      "x3  -0.2797        0.3142 -0.8903 0.3733        -0.8955        0.3361\n",
      "x4  -0.5412 25771679.7388 -0.0000 1.0000 -50511564.6505 50511563.5680\n",
      "x5  -1.1234        0.2351 -4.7773 0.0000        -1.5842       -0.6625\n",
      "x6   2.3250        0.4401  5.2832 0.0000         1.4624        3.1875\n",
      "x7   0.1711        0.1790  0.9561 0.3390        -0.1797        0.5220\n",
      "x8  -0.2115        0.1770 -1.1950 0.2321        -0.5583        0.1354\n",
      "x9   0.0724        0.1738  0.4166 0.6770        -0.2683        0.4131\n",
      "x10  0.2003        0.1772  1.1301 0.2584        -0.1471        0.5476\n",
      "x11 -0.1042        0.1804 -0.5778 0.5634        -0.4578        0.2493\n",
      "x12 -0.2749        0.1764 -1.5579 0.1193        -0.6207        0.0709\n",
      "=====================================================================\n",
      "\n"
     ]
    }
   ],
   "source": [
    "# While the previous model implemented was good in predicting the Target variable on a test set, \n",
    "# we did not interpret anything about the individual features - which variable(s) influence the Target variable more.\n",
    "\n",
    "logit_model = sm.Logit(y_train, X_train_scaled)\n",
    "result = logit_model.fit()\n",
    "print(result.summary2())"
   ]
  },
  {
   "cell_type": "markdown",
   "metadata": {
    "_uuid": "3ea795f74a1be5edcddf2061a4ebc1c533df6626"
   },
   "source": [
    "## Understanding the model result summary\n",
    "\n",
    " - The above model did not converge because some variables were highly correlated with each other and this would have led to the correlation/ covariance matrix to be singular. \n",
    " - In fact, it was very intersting to note that in our data, the Pelvic Incidence column values are an exact sum of Pelvic Tilt and Sacral Slope. So that explains.\n",
    " - Also in our statistical test results, the Standard error values are very high and p-value is 1 for these three variables. Hence we will remove them and re run the model. "
   ]
  },
  {
   "cell_type": "code",
   "execution_count": 30,
   "metadata": {
    "_uuid": "d70534e20ba22ff158669774dec9efd5072e3cc5"
   },
   "outputs": [],
   "source": [
    "#Removing the highly correlated variables which also had high standard error\n",
    "cols_to_include = [cols for cols in X.columns if cols not in ['lumbar_lordosis_angle', 'pelvic_incidence']] #'pelvic tilt','sacral_slope'\n",
    "X = back_data[cols_to_include]\n",
    "\n"
   ]
  },
  {
   "cell_type": "code",
   "execution_count": 22,
   "metadata": {
    "ExecuteTime": {
     "end_time": "2021-04-07T04:11:20.569608Z",
     "start_time": "2021-04-07T04:11:20.500567Z"
    }
   },
   "outputs": [],
   "source": [
    "#Removing the highly correlated variables which also had high standard error\n",
    "cols_to_include1 = [cols for cols in X.columns if cols not in ['pelvic tilt', 'sacral_slope']] #'pelvic tilt','sacral_slope'\n",
    "X = back_data[cols_to_include1]\n"
   ]
  },
  {
   "cell_type": "code",
   "execution_count": 23,
   "metadata": {
    "ExecuteTime": {
     "end_time": "2021-04-07T04:11:26.391286Z",
     "start_time": "2021-04-07T04:11:26.292219Z"
    },
    "_uuid": "d4434a23b84fb7060183a4d1c3867adf42081851",
    "scrolled": true
   },
   "outputs": [
    {
     "name": "stdout",
     "output_type": "stream",
     "text": [
      "Training set score: 0.848\n",
      "Test set score: 0.753\n"
     ]
    }
   ],
   "source": [
    "X_train_scaled, X_test_scaled, y_train, y_test = data_preprocess(X,y)\n",
    "\n",
    "logreg_result = logistic_regression(X_train_scaled, y_train)\n",
    "\n",
    "print(\"Training set score: {:.3f}\".format(logreg_result.score(X_train_scaled,y_train)))\n",
    "print(\"Test set score: {:.3f}\".format(logreg_result.score(X_test_scaled,y_test)))"
   ]
  },
  {
   "cell_type": "code",
   "execution_count": 24,
   "metadata": {
    "ExecuteTime": {
     "end_time": "2021-04-07T04:11:30.829211Z",
     "start_time": "2021-04-07T04:11:30.612981Z"
    }
   },
   "outputs": [
    {
     "data": {
      "text/plain": [
       "['pelvic_incidence',\n",
       " 'lumbar_lordosis_angle',\n",
       " 'pelvic_radius',\n",
       " 'degree_spondylolisthesis',\n",
       " 'pelvic_slope',\n",
       " 'Direct_tilt',\n",
       " 'thoracic_slope',\n",
       " 'cervical_tilt',\n",
       " 'sacrum_angle',\n",
       " 'scoliosis_slope']"
      ]
     },
     "execution_count": 24,
     "metadata": {},
     "output_type": "execute_result"
    }
   ],
   "source": [
    "cols_to_include1"
   ]
  },
  {
   "cell_type": "markdown",
   "metadata": {
    "_uuid": "4f92de61e5d3c9fe09e954e1e82eefc6d9fbbd7f"
   },
   "source": [
    "The test results indicate that the predictive power has gone down after removing the highly correlated variables. Let us look at the statistical summary below."
   ]
  },
  {
   "cell_type": "code",
   "execution_count": 25,
   "metadata": {
    "ExecuteTime": {
     "end_time": "2021-04-07T04:11:50.799438Z",
     "start_time": "2021-04-07T04:11:50.498230Z"
    },
    "_uuid": "181e028da6b161038e67fb990dddd79fde7b493f"
   },
   "outputs": [
    {
     "name": "stdout",
     "output_type": "stream",
     "text": [
      "Optimization terminated successfully.\n",
      "         Current function value: 0.480817\n",
      "         Iterations 7\n",
      "                         Results: Logit\n",
      "=================================================================\n",
      "Model:              Logit            Pseudo R-squared: 0.235     \n",
      "Dependent Variable: y                AIC:              228.6748  \n",
      "Date:               2021-04-07 09:41 BIC:              262.4738  \n",
      "No. Observations:   217              Log-Likelihood:   -104.34   \n",
      "Df Model:           9                LL-Null:          -136.45   \n",
      "Df Residuals:       207              LLR p-value:      2.0417e-10\n",
      "Converged:          1.0000           Scale:            1.0000    \n",
      "No. Iterations:     7.0000                                       \n",
      "-------------------------------------------------------------------\n",
      "           Coef.    Std.Err.      z      P>|z|     [0.025    0.975]\n",
      "-------------------------------------------------------------------\n",
      "x1        -0.2076     0.2993   -0.6936   0.4879   -0.7941    0.3790\n",
      "x2        -0.4398     0.2966   -1.4829   0.1381   -1.0210    0.1415\n",
      "x3        -0.9962     0.2148   -4.6375   0.0000   -1.4172   -0.5752\n",
      "x4         2.3762     0.4317    5.5039   0.0000    1.5301    3.2224\n",
      "x5         0.1531     0.1773    0.8631   0.3881   -0.1945    0.5006\n",
      "x6        -0.2449     0.1745   -1.4038   0.1604   -0.5868    0.0970\n",
      "x7         0.0673     0.1730    0.3890   0.6973   -0.2718    0.4065\n",
      "x8         0.2000     0.1751    1.1423   0.2533   -0.1432    0.5432\n",
      "x9        -0.1148     0.1780   -0.6452   0.5188   -0.4637    0.2340\n",
      "x10       -0.2862     0.1740   -1.6448   0.1000   -0.6272    0.0548\n",
      "=================================================================\n",
      "\n"
     ]
    }
   ],
   "source": [
    "# to get the statistical summary of the new model\n",
    "logit_model=sm.Logit(y_train,X_train_scaled)\n",
    "result=logit_model.fit()\n",
    "print(result.summary2())"
   ]
  },
  {
   "cell_type": "code",
   "execution_count": 28,
   "metadata": {
    "ExecuteTime": {
     "end_time": "2021-04-07T04:12:56.538232Z",
     "start_time": "2021-04-07T04:12:56.519226Z"
    },
    "_uuid": "4bae1b585c5f4108fea6903f9440dec672031994"
   },
   "outputs": [],
   "source": [
    "# considering only the variables which have p-value less than 0.05\n",
    "X_trim_1 = back_data.loc[:,['pelvic tilt','sacral_slope','degree_spondylolisthesis']]"
   ]
  },
  {
   "cell_type": "code",
   "execution_count": 29,
   "metadata": {
    "ExecuteTime": {
     "end_time": "2021-04-07T04:12:57.413327Z",
     "start_time": "2021-04-07T04:12:57.319264Z"
    },
    "_uuid": "f2166b9ab4eb654a4baf6277dc5f4bdfc29f129f"
   },
   "outputs": [
    {
     "name": "stdout",
     "output_type": "stream",
     "text": [
      "Training set score: 0.853\n",
      "Test set score: 0.882\n"
     ]
    }
   ],
   "source": [
    "X_train_scaled, X_test_scaled, y_train, y_test = data_preprocess(X_trim_1,y)\n",
    "\n",
    "logreg_result = logistic_regression(X_train_scaled, y_train)\n",
    "\n",
    "print(\"Training set score: {:.3f}\".format(logreg_result.score(X_train_scaled,y_train)))\n",
    "print(\"Test set score: {:.3f}\".format(logreg_result.score(X_test_scaled,y_test)))"
   ]
  },
  {
   "cell_type": "code",
   "execution_count": 61,
   "metadata": {},
   "outputs": [
    {
     "data": {
      "text/html": [
       "<div>\n",
       "<style scoped>\n",
       "    .dataframe tbody tr th:only-of-type {\n",
       "        vertical-align: middle;\n",
       "    }\n",
       "\n",
       "    .dataframe tbody tr th {\n",
       "        vertical-align: top;\n",
       "    }\n",
       "\n",
       "    .dataframe thead th {\n",
       "        text-align: right;\n",
       "    }\n",
       "</style>\n",
       "<table border=\"1\" class=\"dataframe\">\n",
       "  <thead>\n",
       "    <tr style=\"text-align: right;\">\n",
       "      <th></th>\n",
       "      <th>pelvic_radius</th>\n",
       "      <th>degree_spondylolisthesis</th>\n",
       "      <th>pelvic_incidence</th>\n",
       "    </tr>\n",
       "  </thead>\n",
       "  <tbody>\n",
       "    <tr>\n",
       "      <th>0</th>\n",
       "      <td>98.672917</td>\n",
       "      <td>-0.254400</td>\n",
       "      <td>63.027818</td>\n",
       "    </tr>\n",
       "    <tr>\n",
       "      <th>1</th>\n",
       "      <td>114.405425</td>\n",
       "      <td>4.564259</td>\n",
       "      <td>39.056951</td>\n",
       "    </tr>\n",
       "    <tr>\n",
       "      <th>2</th>\n",
       "      <td>105.985135</td>\n",
       "      <td>-3.530317</td>\n",
       "      <td>68.832021</td>\n",
       "    </tr>\n",
       "    <tr>\n",
       "      <th>3</th>\n",
       "      <td>101.868495</td>\n",
       "      <td>11.211523</td>\n",
       "      <td>69.297008</td>\n",
       "    </tr>\n",
       "    <tr>\n",
       "      <th>4</th>\n",
       "      <td>108.168725</td>\n",
       "      <td>7.918501</td>\n",
       "      <td>49.712859</td>\n",
       "    </tr>\n",
       "    <tr>\n",
       "      <th>...</th>\n",
       "      <td>...</td>\n",
       "      <td>...</td>\n",
       "      <td>...</td>\n",
       "    </tr>\n",
       "    <tr>\n",
       "      <th>305</th>\n",
       "      <td>117.449062</td>\n",
       "      <td>-4.245395</td>\n",
       "      <td>47.903565</td>\n",
       "    </tr>\n",
       "    <tr>\n",
       "      <th>306</th>\n",
       "      <td>114.365845</td>\n",
       "      <td>-0.421010</td>\n",
       "      <td>53.936748</td>\n",
       "    </tr>\n",
       "    <tr>\n",
       "      <th>307</th>\n",
       "      <td>125.670725</td>\n",
       "      <td>-2.707880</td>\n",
       "      <td>61.446597</td>\n",
       "    </tr>\n",
       "    <tr>\n",
       "      <th>308</th>\n",
       "      <td>118.545842</td>\n",
       "      <td>0.214750</td>\n",
       "      <td>45.252792</td>\n",
       "    </tr>\n",
       "    <tr>\n",
       "      <th>309</th>\n",
       "      <td>123.945244</td>\n",
       "      <td>-0.199249</td>\n",
       "      <td>33.841641</td>\n",
       "    </tr>\n",
       "  </tbody>\n",
       "</table>\n",
       "<p>310 rows × 3 columns</p>\n",
       "</div>"
      ],
      "text/plain": [
       "     pelvic_radius  degree_spondylolisthesis  pelvic_incidence\n",
       "0        98.672917                 -0.254400         63.027818\n",
       "1       114.405425                  4.564259         39.056951\n",
       "2       105.985135                 -3.530317         68.832021\n",
       "3       101.868495                 11.211523         69.297008\n",
       "4       108.168725                  7.918501         49.712859\n",
       "..             ...                       ...               ...\n",
       "305     117.449062                 -4.245395         47.903565\n",
       "306     114.365845                 -0.421010         53.936748\n",
       "307     125.670725                 -2.707880         61.446597\n",
       "308     118.545842                  0.214750         45.252792\n",
       "309     123.945244                 -0.199249         33.841641\n",
       "\n",
       "[310 rows x 3 columns]"
      ]
     },
     "execution_count": 61,
     "metadata": {},
     "output_type": "execute_result"
    }
   ],
   "source": [
    "X_trim_1"
   ]
  },
  {
   "cell_type": "code",
   "execution_count": 59,
   "metadata": {
    "_uuid": "a46ccac9e40ef9fd66340ec61791f61cf4441d38"
   },
   "outputs": [
    {
     "name": "stdout",
     "output_type": "stream",
     "text": [
      "Optimization terminated successfully.\n",
      "         Current function value: 0.500660\n",
      "         Iterations 7\n",
      "                         Results: Logit\n",
      "=================================================================\n",
      "Model:              Logit            Pseudo R-squared: 0.204     \n",
      "Dependent Variable: y                AIC:              223.2866  \n",
      "Date:               2021-03-20 15:44 BIC:              233.4263  \n",
      "No. Observations:   217              Log-Likelihood:   -108.64   \n",
      "Df Model:           2                LL-Null:          -136.45   \n",
      "Df Residuals:       214              LLR p-value:      8.3932e-13\n",
      "Converged:          1.0000           Scale:            1.0000    \n",
      "No. Iterations:     7.0000                                       \n",
      "--------------------------------------------------------------------\n",
      "       Coef.     Std.Err.       z       P>|z|      [0.025     0.975]\n",
      "--------------------------------------------------------------------\n",
      "x1    -0.9683      0.2140    -4.5256    0.0000    -1.3877    -0.5489\n",
      "x2     2.0635      0.3626     5.6917    0.0000     1.3529     2.7741\n",
      "x3    -0.4198      0.2511    -1.6714    0.0946    -0.9120     0.0725\n",
      "=================================================================\n",
      "\n"
     ]
    }
   ],
   "source": [
    "logit_model=sm.Logit(y_train,X_train_scaled)\n",
    "result=logit_model.fit()\n",
    "print(result.summary2())"
   ]
  },
  {
   "cell_type": "code",
   "execution_count": 27,
   "metadata": {
    "_uuid": "b294216656fda6656dd0e99af28559b95b3bbe56"
   },
   "outputs": [],
   "source": [
    "# assigning the model predicted values to y_pred\n",
    "y_pred = logreg_result.predict(X_test_scaled)\n",
    "\n",
    "\n",
    "# assigning the string Normal and Abnormal to the 0 and 1 values respectively. This is useful in plotting \n",
    "# the confusion matrix\n",
    "y_pred_string = y_pred.astype(str)\n",
    "y_pred_string[np.where(y_pred_string == '0')] = 'Normal'\n",
    "y_pred_string[np.where(y_pred_string == '1')] = 'Abnormal'\n",
    "\n",
    "y_test_string = y_test.astype(str)\n",
    "y_test_string[np.where(y_test_string == '0')] = 'Normal'\n",
    "y_test_string[np.where(y_test_string == '1')] = 'Abnormal'"
   ]
  },
  {
   "cell_type": "code",
   "execution_count": 28,
   "metadata": {
    "_uuid": "03452a992109465f16ba28e701520a3c8f60a65c"
   },
   "outputs": [
    {
     "name": "stderr",
     "output_type": "stream",
     "text": [
      "/opt/anaconda3/lib/python3.8/site-packages/sklearn/utils/validation.py:68: FutureWarning: Pass labels=['Abnormal', 'Normal'] as keyword args. From version 0.25 passing these as positional arguments will result in an error\n",
      "  warnings.warn(\"Pass {} as keyword args. From version 0.25 \"\n"
     ]
    },
    {
     "data": {
      "image/png": "[encoded data removed]",
      "text/plain": [
       "<Figure size 432x288 with 2 Axes>"
      ]
     },
     "metadata": {
      "needs_background": "light"
     },
     "output_type": "display_data"
    }
   ],
   "source": [
    "# Gauging model accuracy\n",
    "\n",
    "from sklearn.metrics import confusion_matrix\n",
    "ax= plt.subplot()\n",
    "labels = ['Abnormal','Normal']\n",
    "cm = confusion_matrix(y_test_string, y_pred_string, labels)\n",
    "sns.heatmap(cm, annot=True, ax = ax); #annot=True to annotate cells\n",
    "\n",
    "# labels, title and ticks\n",
    "ax.set_xlabel('Predicted labels');ax.set_ylabel('True labels'); \n",
    "ax.set_title('Confusion Matrix'); \n",
    "ax.xaxis.set_ticklabels(['Abnormal', 'Normal']); ax.yaxis.set_ticklabels(['Abnormal', 'Normal']);\n",
    "plt.show()"
   ]
  },
  {
   "cell_type": "code",
   "execution_count": 29,
   "metadata": {},
   "outputs": [
    {
     "name": "stdout",
     "output_type": "stream",
     "text": [
      "              precision    recall  f1-score   support\n",
      "\n",
      "    Abnormal       0.63      0.80      0.71        30\n",
      "      Normal       0.89      0.78      0.83        63\n",
      "\n",
      "    accuracy                           0.78        93\n",
      "   macro avg       0.76      0.79      0.77        93\n",
      "weighted avg       0.81      0.78      0.79        93\n",
      "\n"
     ]
    }
   ],
   "source": [
    "print(classification_report(y_test, y_pred, target_names=labels))"
   ]
  },
  {
   "cell_type": "code",
   "execution_count": 28,
   "metadata": {},
   "outputs": [],
   "source": [
    "# Scaling - Without scaling , Min max scaling\n",
    "# Dont remove all three correlated columns just the two or the one that solves the problem"
   ]
  },
  {
   "cell_type": "code",
   "execution_count": 29,
   "metadata": {},
   "outputs": [
    {
     "data": {
      "text/plain": [
       "array([0, 1, 0, 1, 0, 0, 1, 1, 1, 0, 1, 0, 1, 1, 1, 1, 0, 1, 0, 0, 0, 0,\n",
       "       0, 1, 1, 0, 1, 1, 0, 1, 1, 1, 0, 1, 1, 1, 1, 1, 1, 0, 1, 1, 0, 1,\n",
       "       0, 0, 1, 1, 1, 1, 0, 1, 1, 1, 1, 0, 1, 1, 1, 0, 1, 0, 0, 1, 0, 0,\n",
       "       1, 1, 1, 1, 0, 1, 0, 1, 0, 1, 1, 0, 0, 1, 1, 0, 1, 0, 1, 0, 0, 0,\n",
       "       1, 1, 1, 1, 0])"
      ]
     },
     "execution_count": 29,
     "metadata": {},
     "output_type": "execute_result"
    }
   ],
   "source": [
    "y_pred"
   ]
  },
  {
   "cell_type": "code",
   "execution_count": 30,
   "metadata": {},
   "outputs": [
    {
     "data": {
      "image/png": "[encoded data removed]",
      "text/plain": [
       "<Figure size 432x288 with 1 Axes>"
      ]
     },
     "metadata": {
      "needs_background": "light"
     },
     "output_type": "display_data"
    }
   ],
   "source": [
    "from sklearn import metrics\n",
    "fpr, tpr, threshholds = metrics.roc_curve(y_test,  y_pred)\n",
    "auc = metrics.roc_auc_score(y_test, y_pred)\n",
    "plt.plot(fpr,tpr,label=\"ROC curve , auc=\"+str(auc))\n",
    "plt.legend(loc=4)\n",
    "plt.show()"
   ]
  },
  {
   "cell_type": "code",
   "execution_count": 31,
   "metadata": {},
   "outputs": [
    {
     "data": {
      "image/png": "[encoded data removed]",
      "text/plain": [
       "<Figure size 432x288 with 1 Axes>"
      ]
     },
     "metadata": {
      "needs_background": "light"
     },
     "output_type": "display_data"
    }
   ],
   "source": [
    "y_pred_train = logreg_result.predict(X_train_scaled)\n",
    "fpr, tpr, threshholds = metrics.roc_curve(y_train,  y_pred_train)\n",
    "auc = metrics.roc_auc_score(y_train,  y_pred_train)\n",
    "plt.plot(fpr,tpr,label=\"ROC curve , auc=\"+str(auc))\n",
    "plt.legend(loc=4)\n",
    "plt.show()"
   ]
  },
  {
   "cell_type": "code",
   "execution_count": null,
   "metadata": {},
   "outputs": [],
   "source": []
  },
  {
   "cell_type": "code",
   "execution_count": 32,
   "metadata": {},
   "outputs": [
    {
     "data": {
      "text/plain": [
       "array([0, 1, 0, 1, 0, 0, 1, 1, 1, 0, 1, 0, 1, 1, 1, 1, 0, 1, 0, 0, 0, 0,\n",
       "       0, 1, 1, 0, 1, 1, 0, 1, 1, 1, 0, 1, 1, 1, 1, 1, 1, 0, 1, 1, 0, 1,\n",
       "       0, 0, 1, 1, 1, 1, 0, 1, 1, 1, 1, 0, 1, 1, 1, 0, 1, 0, 0, 1, 0, 0,\n",
       "       1, 1, 1, 1, 0, 1, 0, 1, 0, 1, 1, 0, 0, 1, 1, 0, 1, 0, 1, 0, 0, 0,\n",
       "       1, 1, 1, 1, 0])"
      ]
     },
     "execution_count": 32,
     "metadata": {},
     "output_type": "execute_result"
    }
   ],
   "source": [
    "y_pred"
   ]
  },
  {
   "cell_type": "code",
   "execution_count": 33,
   "metadata": {},
   "outputs": [],
   "source": [
    "y_pred_train = logreg_result.predict_proba(X_train_scaled)"
   ]
  },
  {
   "cell_type": "code",
   "execution_count": 34,
   "metadata": {},
   "outputs": [
    {
     "data": {
      "text/plain": [
       "array([[3.30211480e-02, 9.66978852e-01],\n",
       "       [8.42577591e-01, 1.57422409e-01],\n",
       "       [4.95254537e-01, 5.04745463e-01],\n",
       "       [1.53174343e-03, 9.98468257e-01],\n",
       "       [5.49558056e-01, 4.50441944e-01],\n",
       "       [3.56549467e-02, 9.64345053e-01],\n",
       "       [6.39239408e-01, 3.60760592e-01],\n",
       "       [6.00660978e-01, 3.99339022e-01],\n",
       "       [5.53917547e-01, 4.46082453e-01],\n",
       "       [6.35357480e-01, 3.64642520e-01],\n",
       "       [2.70911437e-01, 7.29088563e-01],\n",
       "       [7.11996305e-02, 9.28800370e-01],\n",
       "       [8.69251271e-04, 9.99130749e-01],\n",
       "       [4.05733653e-03, 9.95942663e-01],\n",
       "       [1.55867963e-02, 9.84413204e-01],\n",
       "       [2.43712627e-01, 7.56287373e-01],\n",
       "       [9.09209583e-01, 9.07904172e-02],\n",
       "       [8.35999888e-03, 9.91640001e-01],\n",
       "       [3.41920494e-01, 6.58079506e-01],\n",
       "       [7.21584700e-01, 2.78415300e-01],\n",
       "       [4.64551212e-01, 5.35448788e-01],\n",
       "       [2.82142707e-01, 7.17857293e-01],\n",
       "       [5.44233109e-01, 4.55766891e-01],\n",
       "       [1.84544884e-02, 9.81545512e-01],\n",
       "       [4.62071315e-03, 9.95379287e-01],\n",
       "       [7.21231444e-01, 2.78768556e-01],\n",
       "       [1.45752050e-02, 9.85424795e-01],\n",
       "       [6.91044714e-01, 3.08955286e-01],\n",
       "       [3.50848644e-02, 9.64915136e-01],\n",
       "       [5.66794373e-01, 4.33205627e-01],\n",
       "       [2.08570141e-02, 9.79142986e-01],\n",
       "       [1.47381382e-01, 8.52618618e-01],\n",
       "       [7.28445605e-01, 2.71554395e-01],\n",
       "       [2.55669078e-01, 7.44330922e-01],\n",
       "       [6.68968067e-04, 9.99331032e-01],\n",
       "       [1.45791601e-02, 9.85420840e-01],\n",
       "       [6.73338220e-01, 3.26661780e-01],\n",
       "       [4.24040172e-01, 5.75959828e-01],\n",
       "       [2.81826431e-02, 9.71817357e-01],\n",
       "       [4.29669423e-03, 9.95703306e-01],\n",
       "       [1.70047944e-01, 8.29952056e-01],\n",
       "       [7.87799633e-01, 2.12200367e-01],\n",
       "       [6.21869505e-01, 3.78130495e-01],\n",
       "       [5.47675684e-01, 4.52324316e-01],\n",
       "       [8.12164959e-01, 1.87835041e-01],\n",
       "       [4.62970949e-02, 9.53702905e-01],\n",
       "       [5.96502675e-01, 4.03497325e-01],\n",
       "       [7.58200738e-05, 9.99924180e-01],\n",
       "       [1.12575393e-01, 8.87424607e-01],\n",
       "       [4.20707374e-01, 5.79292626e-01],\n",
       "       [4.41833631e-01, 5.58166369e-01],\n",
       "       [1.08856634e-01, 8.91143366e-01],\n",
       "       [1.63738446e-01, 8.36261554e-01],\n",
       "       [2.70234896e-02, 9.72976510e-01],\n",
       "       [1.98720200e-02, 9.80127980e-01],\n",
       "       [3.61559903e-03, 9.96384401e-01],\n",
       "       [9.17195177e-04, 9.99082805e-01],\n",
       "       [1.49247986e-01, 8.50752014e-01],\n",
       "       [3.60929001e-01, 6.39070999e-01],\n",
       "       [1.78855553e-02, 9.82114445e-01],\n",
       "       [4.65414123e-01, 5.34585877e-01],\n",
       "       [2.43108835e-01, 7.56891165e-01],\n",
       "       [4.04750732e-04, 9.99595249e-01],\n",
       "       [2.38925557e-01, 7.61074443e-01],\n",
       "       [2.17672804e-02, 9.78232720e-01],\n",
       "       [7.72399865e-01, 2.27600135e-01],\n",
       "       [1.31521398e-01, 8.68478602e-01],\n",
       "       [1.20795280e-02, 9.87920472e-01],\n",
       "       [1.91682742e-02, 9.80831726e-01],\n",
       "       [5.02278796e-01, 4.97721204e-01],\n",
       "       [2.53382753e-01, 7.46617247e-01],\n",
       "       [3.98225597e-03, 9.96017744e-01],\n",
       "       [6.19355702e-01, 3.80644298e-01],\n",
       "       [8.82357667e-01, 1.17642333e-01],\n",
       "       [4.87111507e-01, 5.12888493e-01],\n",
       "       [6.06278477e-01, 3.93721523e-01],\n",
       "       [5.97849091e-01, 4.02150909e-01],\n",
       "       [8.59459599e-01, 1.40540401e-01],\n",
       "       [3.68246547e-03, 9.96317535e-01],\n",
       "       [1.97137311e-01, 8.02862689e-01],\n",
       "       [4.97006043e-01, 5.02993957e-01],\n",
       "       [3.92893563e-01, 6.07106437e-01],\n",
       "       [6.22579568e-04, 9.99377420e-01],\n",
       "       [1.02732445e-01, 8.97267555e-01],\n",
       "       [2.79055138e-01, 7.20944862e-01],\n",
       "       [4.86355918e-01, 5.13644082e-01],\n",
       "       [8.23845285e-01, 1.76154715e-01],\n",
       "       [7.19062604e-01, 2.80937396e-01],\n",
       "       [3.82700560e-01, 6.17299440e-01],\n",
       "       [4.78207219e-01, 5.21792781e-01],\n",
       "       [5.09883470e-03, 9.94901165e-01],\n",
       "       [3.98474260e-01, 6.01525740e-01],\n",
       "       [8.72446824e-01, 1.27553176e-01],\n",
       "       [4.45043987e-01, 5.54956013e-01],\n",
       "       [5.56825928e-01, 4.43174072e-01],\n",
       "       [8.47942239e-03, 9.91520578e-01],\n",
       "       [8.21609402e-01, 1.78390598e-01],\n",
       "       [3.57683654e-01, 6.42316346e-01],\n",
       "       [1.00742540e-02, 9.89925746e-01],\n",
       "       [5.82291035e-01, 4.17708965e-01],\n",
       "       [1.98707941e-02, 9.80129206e-01],\n",
       "       [7.56190281e-02, 9.24380972e-01],\n",
       "       [8.74640112e-01, 1.25359888e-01],\n",
       "       [7.83152159e-01, 2.16847841e-01],\n",
       "       [4.52950375e-01, 5.47049625e-01],\n",
       "       [7.07986254e-01, 2.92013746e-01],\n",
       "       [1.75834519e-02, 9.82416548e-01],\n",
       "       [1.28656254e-02, 9.87134375e-01],\n",
       "       [5.21310365e-01, 4.78689635e-01],\n",
       "       [3.91417525e-01, 6.08582475e-01],\n",
       "       [2.77815454e-02, 9.72218455e-01],\n",
       "       [1.00254183e-02, 9.89974582e-01],\n",
       "       [1.48049366e-01, 8.51950634e-01],\n",
       "       [1.28393158e-03, 9.98716068e-01],\n",
       "       [4.06143966e-01, 5.93856034e-01],\n",
       "       [4.73469893e-02, 9.52653011e-01],\n",
       "       [6.42974384e-01, 3.57025616e-01],\n",
       "       [3.68101845e-02, 9.63189815e-01],\n",
       "       [7.52291832e-01, 2.47708168e-01],\n",
       "       [1.15054062e-04, 9.99884946e-01],\n",
       "       [6.74137869e-01, 3.25862131e-01],\n",
       "       [2.69059409e-02, 9.73094059e-01],\n",
       "       [2.97420441e-03, 9.97025796e-01],\n",
       "       [2.19897746e-01, 7.80102254e-01],\n",
       "       [2.08978200e-02, 9.79102180e-01],\n",
       "       [5.96627466e-01, 4.03372534e-01],\n",
       "       [1.66662723e-05, 9.99983334e-01],\n",
       "       [4.16342428e-01, 5.83657572e-01],\n",
       "       [8.53588235e-01, 1.46411765e-01],\n",
       "       [2.78335441e-02, 9.72166456e-01],\n",
       "       [4.07914813e-02, 9.59208519e-01],\n",
       "       [3.64062406e-01, 6.35937594e-01],\n",
       "       [6.15669638e-01, 3.84330362e-01],\n",
       "       [9.06590217e-01, 9.34097835e-02],\n",
       "       [7.98074138e-01, 2.01925862e-01],\n",
       "       [3.28632431e-04, 9.99671368e-01],\n",
       "       [1.34623866e-02, 9.86537613e-01],\n",
       "       [6.00673474e-01, 3.99326526e-01],\n",
       "       [6.03244518e-03, 9.93967555e-01],\n",
       "       [5.88051136e-01, 4.11948864e-01],\n",
       "       [1.77446927e-02, 9.82255307e-01],\n",
       "       [2.11062570e-04, 9.99788937e-01],\n",
       "       [7.00768284e-02, 9.29923172e-01],\n",
       "       [7.44378909e-01, 2.55621091e-01],\n",
       "       [4.84243909e-01, 5.15756091e-01],\n",
       "       [1.27658274e-01, 8.72341726e-01],\n",
       "       [3.91333626e-02, 9.60866637e-01],\n",
       "       [3.45380629e-01, 6.54619371e-01],\n",
       "       [7.26144803e-01, 2.73855197e-01],\n",
       "       [5.91826764e-01, 4.08173236e-01],\n",
       "       [2.00309821e-03, 9.97996902e-01],\n",
       "       [4.64351867e-01, 5.35648133e-01],\n",
       "       [5.68014992e-01, 4.31985008e-01],\n",
       "       [5.07054136e-02, 9.49294586e-01],\n",
       "       [4.04848409e-02, 9.59515159e-01],\n",
       "       [1.80003024e-01, 8.19996976e-01],\n",
       "       [7.63910613e-03, 9.92360894e-01],\n",
       "       [9.38646321e-02, 9.06135368e-01],\n",
       "       [6.56976821e-01, 3.43023179e-01],\n",
       "       [7.91776693e-01, 2.08223307e-01],\n",
       "       [2.76977939e-02, 9.72302206e-01],\n",
       "       [6.67796724e-01, 3.32203276e-01],\n",
       "       [1.16735262e-01, 8.83264738e-01],\n",
       "       [2.07368901e-02, 9.79263110e-01],\n",
       "       [5.30224734e-02, 9.46977527e-01],\n",
       "       [4.82386752e-01, 5.17613248e-01],\n",
       "       [9.03373468e-01, 9.66265323e-02],\n",
       "       [5.48350358e-01, 4.51649642e-01],\n",
       "       [4.63739999e-01, 5.36260001e-01],\n",
       "       [4.79391572e-01, 5.20608428e-01],\n",
       "       [5.00028444e-01, 4.99971556e-01],\n",
       "       [6.75519052e-01, 3.24480948e-01],\n",
       "       [1.99382824e-01, 8.00617176e-01],\n",
       "       [6.85249964e-01, 3.14750036e-01],\n",
       "       [4.42419796e-03, 9.95575802e-01],\n",
       "       [2.75099028e-01, 7.24900972e-01],\n",
       "       [2.29411885e-02, 9.77058811e-01],\n",
       "       [1.00514175e-03, 9.98994858e-01],\n",
       "       [1.59575879e-01, 8.40424121e-01],\n",
       "       [4.33748878e-01, 5.66251122e-01],\n",
       "       [2.68839050e-03, 9.97311610e-01],\n",
       "       [1.07061670e-01, 8.92938330e-01],\n",
       "       [3.45339622e-01, 6.54660378e-01],\n",
       "       [1.51616925e-02, 9.84838308e-01],\n",
       "       [4.70832011e-02, 9.52916799e-01],\n",
       "       [2.51576891e-01, 7.48423109e-01],\n",
       "       [4.77751281e-01, 5.22248719e-01],\n",
       "       [6.29067773e-02, 9.37093223e-01],\n",
       "       [5.24617654e-01, 4.75382346e-01],\n",
       "       [5.00664512e-03, 9.94993355e-01],\n",
       "       [6.76077499e-02, 9.32392250e-01],\n",
       "       [2.51211045e-03, 9.97487890e-01],\n",
       "       [7.77839130e-01, 2.22160870e-01],\n",
       "       [0.00000000e+00, 1.00000000e+00],\n",
       "       [7.72737152e-01, 2.27262848e-01],\n",
       "       [5.89068200e-03, 9.94109318e-01],\n",
       "       [5.66329891e-01, 4.33670109e-01],\n",
       "       [1.59784384e-02, 9.84021562e-01],\n",
       "       [8.53003672e-01, 1.46996328e-01],\n",
       "       [5.16125616e-02, 9.48387438e-01],\n",
       "       [6.79592348e-01, 3.20407652e-01],\n",
       "       [4.69536458e-01, 5.30463542e-01],\n",
       "       [2.10682015e-01, 7.89317985e-01],\n",
       "       [2.55323655e-01, 7.44676345e-01],\n",
       "       [1.07412497e-01, 8.92587503e-01],\n",
       "       [1.22587804e-01, 8.77412196e-01],\n",
       "       [6.70820249e-01, 3.29179751e-01],\n",
       "       [7.33125880e-01, 2.66874120e-01],\n",
       "       [8.22752209e-01, 1.77247791e-01],\n",
       "       [7.59161506e-01, 2.40838494e-01],\n",
       "       [8.02053333e-02, 9.19794667e-01],\n",
       "       [1.00776265e-01, 8.99223735e-01],\n",
       "       [9.08960429e-01, 9.10395705e-02],\n",
       "       [3.93865624e-04, 9.99606134e-01],\n",
       "       [8.62698282e-03, 9.91373017e-01],\n",
       "       [4.98865909e-01, 5.01134091e-01],\n",
       "       [3.01733031e-02, 9.69826697e-01]])"
      ]
     },
     "execution_count": 34,
     "metadata": {},
     "output_type": "execute_result"
    }
   ],
   "source": [
    "y_pred_train"
   ]
  },
  {
   "cell_type": "code",
   "execution_count": null,
   "metadata": {},
   "outputs": [],
   "source": [
    "## ROC - With different threshholds \n",
    "## Scaling variants - Min max / No scale "
   ]
  }
 ],
 "metadata": {
  "kernelspec": {
   "display_name": "Python 3",
   "language": "python",
   "name": "python3"
  },
  "language_info": {
   "codemirror_mode": {
    "name": "ipython",
    "version": 3
   },
   "file_extension": ".py",
   "mimetype": "text/x-python",
   "name": "python",
   "nbconvert_exporter": "python",
   "pygments_lexer": "ipython3",
   "version": "3.8.8"
  },
  "latex_envs": {
   "LaTeX_envs_menu_present": true,
   "autoclose": false,
   "autocomplete": true,
   "bibliofile": "biblio.bib",
   "cite_by": "apalike",
   "current_citInitial": 1,
   "eqLabelWithNumbers": true,
   "eqNumInitial": 1,
   "hotkeys": {
    "equation": "Ctrl-E",
    "itemize": "Ctrl-I"
   },
   "labels_anchors": false,
   "latex_user_defs": false,
   "report_style_numbering": false,
   "user_envs_cfg": false
  }
 },
 "nbformat": 4,
 "nbformat_minor": 1
}
